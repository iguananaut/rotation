{
 "cells": [
  {
   "cell_type": "code",
   "execution_count": 1,
   "metadata": {
    "collapsed": true
   },
   "outputs": [],
   "source": [
    "%display latex"
   ]
  },
  {
   "cell_type": "code",
   "execution_count": 2,
   "metadata": {
    "collapsed": false
   },
   "outputs": [
    {
     "data": {
      "text/html": [
       "<html><script type=\"math/tex; mode=display\">\\newcommand{\\Bold}[1]{\\mathbf{#1}}\\left(\\begin{array}{rr}\n",
       "\\cos\\left({\\theta}\\right) & \\sin\\left({\\theta}\\right) \\\\\n",
       "-\\sin\\left({\\theta}\\right) & \\cos\\left({\\theta}\\right)\n",
       "\\end{array}\\right)</script></html>"
      ],
      "text/plain": [
       "[ cos(theta)  sin(theta)]\n",
       "[-sin(theta)  cos(theta)]"
      ]
     },
     "execution_count": 2,
     "metadata": {},
     "output_type": "execute_result"
    }
   ],
   "source": [
    "theta = var('theta', latex_name='\\\\theta')\n",
    "R = matrix([[cos(theta), sin(theta)], [-sin(theta), cos(theta)]])  # Rotation matrix\n",
    "R"
   ]
  },
  {
   "cell_type": "code",
   "execution_count": 3,
   "metadata": {
    "collapsed": false
   },
   "outputs": [],
   "source": [
    "# Define some variables\n",
    "a, b, w = var('a b w')\n",
    "x_0, y_0 = var('x_0 y_0')\n",
    "\n",
    "O = vector([x_0, y_0])  # This is your origin\n",
    "A = vector([a, b])      # This is the point you want to rotate"
   ]
  },
  {
   "cell_type": "code",
   "execution_count": 4,
   "metadata": {
    "collapsed": false
   },
   "outputs": [
    {
     "data": {
      "text/html": [
       "<html><script type=\"math/tex; mode=display\">\\newcommand{\\Bold}[1]{\\mathbf{#1}}\\left({\\left(a - x_{0}\\right)} \\cos\\left({\\theta}\\right) + {\\left(b - y_{0}\\right)} \\sin\\left({\\theta}\\right) + x_{0},\\,{\\left(b - y_{0}\\right)} \\cos\\left({\\theta}\\right) - {\\left(a - x_{0}\\right)} \\sin\\left({\\theta}\\right) + y_{0}\\right)</script></html>"
      ],
      "text/plain": [
       "((a - x_0)*cos(theta) + (b - y_0)*sin(theta) + x_0, (b - y_0)*cos(theta) - (a - x_0)*sin(theta) + y_0)"
      ]
     },
     "execution_count": 4,
     "metadata": {},
     "output_type": "execute_result"
    }
   ],
   "source": [
    "A_rotated_around_O = (R*(A - O) + O)\n",
    "A_rotated_around_O"
   ]
  },
  {
   "cell_type": "code",
   "execution_count": 5,
   "metadata": {
    "collapsed": false
   },
   "outputs": [
    {
     "data": {
      "text/html": [
       "<html><script type=\"math/tex; mode=display\">\\newcommand{\\Bold}[1]{\\mathbf{#1}}\\left(-\\frac{1}{4} \\, w \\cos\\left({\\theta}\\right) + \\frac{1}{2} \\, w + 200 \\, \\sin\\left({\\theta}\\right),\\,\\frac{1}{4} \\, w \\sin\\left({\\theta}\\right) + 200 \\, \\cos\\left({\\theta}\\right) + 100\\right)</script></html>"
      ],
      "text/plain": [
       "(-1/4*w*cos(theta) + 1/2*w + 200*sin(theta), 1/4*w*sin(theta) + 200*cos(theta) + 100)"
      ]
     },
     "execution_count": 5,
     "metadata": {},
     "output_type": "execute_result"
    }
   ],
   "source": [
    "# Let's plug in some values:\n",
    "doorknob_position = A_rotated_around_O(x_0=w/2, y_0=100, a=w/4, b=300)\n",
    "doorknob_position"
   ]
  },
  {
   "cell_type": "code",
   "execution_count": 6,
   "metadata": {
    "collapsed": false
   },
   "outputs": [
    {
     "data": {
      "text/html": [
       "<html><script type=\"math/tex; mode=display\">\\newcommand{\\Bold}[1]{\\mathbf{#1}}\\left(\\frac{1}{4} \\, w,\\,300\\right)</script></html>"
      ],
      "text/plain": [
       "(1/4*w, 300)"
      ]
     },
     "execution_count": 6,
     "metadata": {},
     "output_type": "execute_result"
    }
   ],
   "source": [
    "# We can see that if we rotate it by zero we get back the original position\n",
    "doorknob_position(theta=0)"
   ]
  },
  {
   "cell_type": "code",
   "execution_count": 7,
   "metadata": {
    "collapsed": true
   },
   "outputs": [],
   "source": [
    "# Some other simple rotations that are easy to check by hand...\n",
    "def deg2rad(deg):\n",
    "    \"\"\"Convert degrees to radians\"\"\"\n",
    "    return pi*(deg / 180)"
   ]
  },
  {
   "cell_type": "code",
   "execution_count": 8,
   "metadata": {
    "collapsed": false
   },
   "outputs": [
    {
     "data": {
      "text/html": [
       "<html><script type=\"math/tex; mode=display\">\\newcommand{\\Bold}[1]{\\mathbf{#1}}\\left(\\frac{1}{2} \\, w + 200,\\,\\frac{1}{4} \\, w + 100\\right)</script></html>"
      ],
      "text/plain": [
       "(1/2*w + 200, 1/4*w + 100)"
      ]
     },
     "execution_count": 8,
     "metadata": {},
     "output_type": "execute_result"
    }
   ],
   "source": [
    "# Rotate by 90°\n",
    "doorknob_position(theta=deg2rad(90))"
   ]
  },
  {
   "cell_type": "code",
   "execution_count": 9,
   "metadata": {
    "collapsed": false
   },
   "outputs": [
    {
     "data": {
      "text/html": [
       "<html><script type=\"math/tex; mode=display\">\\newcommand{\\Bold}[1]{\\mathbf{#1}}\\left(\\frac{3}{4} \\, w,\\,-100\\right)</script></html>"
      ],
      "text/plain": [
       "(3/4*w, -100)"
      ]
     },
     "execution_count": 9,
     "metadata": {},
     "output_type": "execute_result"
    }
   ],
   "source": [
    "# Rotate by 180°\n",
    "doorknob_position(theta=deg2rad(180))"
   ]
  },
  {
   "cell_type": "code",
   "execution_count": 10,
   "metadata": {
    "collapsed": false
   },
   "outputs": [
    {
     "data": {
      "text/html": [
       "<html><script type=\"math/tex; mode=display\">\\newcommand{\\Bold}[1]{\\mathbf{#1}}\\left(-\\frac{1}{4} \\, w \\cos\\left(\\frac{23}{60} \\, \\pi\\right) + \\frac{1}{2} \\, w + 200 \\, \\sin\\left(\\frac{23}{60} \\, \\pi\\right),\\,\\frac{1}{4} \\, w \\sin\\left(\\frac{23}{60} \\, \\pi\\right) + 200 \\, \\cos\\left(\\frac{23}{60} \\, \\pi\\right) + 100\\right)</script></html>"
      ],
      "text/plain": [
       "(-1/4*w*cos(23/60*pi) + 1/2*w + 200*sin(23/60*pi), 1/4*w*sin(23/60*pi) + 200*cos(23/60*pi) + 100)"
      ]
     },
     "execution_count": 10,
     "metadata": {},
     "output_type": "execute_result"
    }
   ],
   "source": [
    "# A trickier angle\n",
    "doorknob_position(theta=deg2rad(69))"
   ]
  },
  {
   "cell_type": "code",
   "execution_count": 11,
   "metadata": {
    "collapsed": false
   },
   "outputs": [
    {
     "data": {
      "text/html": [
       "<html><script type=\"math/tex; mode=display\">\\newcommand{\\Bold}[1]{\\mathbf{#1}}\\left(203.953221829215,\\,181.476184387281\\right)</script></html>"
      ],
      "text/plain": [
       "(203.953221829215, 181.476184387281)"
      ]
     },
     "execution_count": 11,
     "metadata": {},
     "output_type": "execute_result"
    }
   ],
   "source": [
    "# Substituting a value for w as well, and converting to the numeric result\n",
    "doorknob_position.subs(theta=deg2rad(69), w=42).n()"
   ]
  }
 ],
 "metadata": {
  "kernelspec": {
   "display_name": "SageMath 8.1",
   "language": "",
   "name": "sagemath"
  },
  "language_info": {
   "codemirror_mode": {
    "name": "ipython",
    "version": 2
   },
   "file_extension": ".py",
   "mimetype": "text/x-python",
   "name": "python",
   "nbconvert_exporter": "python",
   "pygments_lexer": "ipython2",
   "version": "2.7.14"
  }
 },
 "nbformat": 4,
 "nbformat_minor": 2
}
